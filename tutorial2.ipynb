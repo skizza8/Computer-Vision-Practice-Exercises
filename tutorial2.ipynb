{
 "cells": [
  {
   "cell_type": "code",
   "execution_count": 1,
   "metadata": {},
   "outputs": [],
   "source": [
    "import cv2\n",
    "\n",
    "#read image\n",
    "img = cv2.imread('original_images/frame18756.jpg', 1)"
   ]
  },
  {
   "cell_type": "code",
   "execution_count": 2,
   "metadata": {},
   "outputs": [
    {
     "name": "stdout",
     "output_type": "stream",
     "text": [
      "[[[142 132 125]\n",
      "  [138 128 121]\n",
      "  [134 127 118]\n",
      "  ...\n",
      "  [ 70  63  54]\n",
      "  [ 70  63  54]\n",
      "  [ 70  63  54]]\n",
      "\n",
      " [[139 129 122]\n",
      "  [137 129 122]\n",
      "  [138 131 122]\n",
      "  ...\n",
      "  [ 70  63  54]\n",
      "  [ 70  63  54]\n",
      "  [ 70  63  54]]\n",
      "\n",
      " [[138 130 123]\n",
      "  [137 131 124]\n",
      "  [137 131 124]\n",
      "  ...\n",
      "  [ 70  63  54]\n",
      "  [ 70  63  54]\n",
      "  [ 70  63  54]]\n",
      "\n",
      " ...\n",
      "\n",
      " [[113 138 148]\n",
      "  [113 138 148]\n",
      "  [111 136 146]\n",
      "  ...\n",
      "  [130 159 164]\n",
      "  [130 159 164]\n",
      "  [130 159 164]]\n",
      "\n",
      " [[107 133 145]\n",
      "  [105 131 143]\n",
      "  [103 129 141]\n",
      "  ...\n",
      "  [130 159 163]\n",
      "  [130 159 163]\n",
      "  [130 159 163]]\n",
      "\n",
      " [[113 139 151]\n",
      "  [109 135 147]\n",
      "  [106 132 144]\n",
      "  ...\n",
      "  [130 159 163]\n",
      "  [130 159 163]\n",
      "  [130 159 163]]]\n"
     ]
    }
   ],
   "source": [
    "print(img)"
   ]
  },
  {
   "cell_type": "code",
   "execution_count": 3,
   "metadata": {},
   "outputs": [
    {
     "name": "stdout",
     "output_type": "stream",
     "text": [
      "(1080, 1920, 3)\n"
     ]
    }
   ],
   "source": [
    "print(img.shape)"
   ]
  },
  {
   "cell_type": "code",
   "execution_count": 8,
   "metadata": {},
   "outputs": [],
   "source": [
    "import random\n",
    "for i in range(100):\n",
    "    for j in range(img.shape[1]):\n",
    "        img[i][j] = [random.randint(0,255), random.randint(0,255), random.randint(0,255)]"
   ]
  },
  {
   "cell_type": "code",
   "execution_count": 7,
   "metadata": {},
   "outputs": [],
   "source": [
    "#show image\n",
    "cv2.imshow('Image', img)\n",
    "cv2.waitKey(0)\n",
    "cv2.destroyAllWindows()"
   ]
  },
  {
   "cell_type": "code",
   "execution_count": 11,
   "metadata": {},
   "outputs": [],
   "source": [
    "# copy part of image\n",
    "img2 = img[500:700, 600:900]"
   ]
  },
  {
   "cell_type": "code",
   "execution_count": 12,
   "metadata": {},
   "outputs": [],
   "source": [
    "#show image\n",
    "cv2.imshow('Image', img2)\n",
    "cv2.waitKey(0)\n",
    "cv2.destroyAllWindows()"
   ]
  }
 ],
 "metadata": {
  "kernelspec": {
   "display_name": "Python 3.10.2 64-bit",
   "language": "python",
   "name": "python3"
  },
  "language_info": {
   "codemirror_mode": {
    "name": "ipython",
    "version": 3
   },
   "file_extension": ".py",
   "mimetype": "text/x-python",
   "name": "python",
   "nbconvert_exporter": "python",
   "pygments_lexer": "ipython3",
   "version": "3.10.2"
  },
  "orig_nbformat": 4,
  "vscode": {
   "interpreter": {
    "hash": "5904c03de541aee3171dc2d946da9df85831543bc9d72f4542217b15b1550de6"
   }
  }
 },
 "nbformat": 4,
 "nbformat_minor": 2
}
