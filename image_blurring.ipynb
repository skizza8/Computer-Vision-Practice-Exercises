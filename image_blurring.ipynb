{
 "cells": [
  {
   "cell_type": "code",
   "execution_count": 40,
   "metadata": {},
   "outputs": [],
   "source": [
    "import cv2\n",
    "import numpy as np"
   ]
  },
  {
   "cell_type": "code",
   "execution_count": 41,
   "metadata": {},
   "outputs": [],
   "source": [
    "\n",
    "image = cv2.imread('original_images/frame18757.jpg')\n",
    "\n",
    "# Print error message if image is null\n",
    "if image is None:\n",
    "    print('Could not read image')\n"
   ]
  },
  {
   "cell_type": "code",
   "execution_count": 42,
   "metadata": {},
   "outputs": [],
   "source": [
    "cv2.imshow('Original', image)\n",
    "cv2.waitKey()\n",
    "#cv2.imwrite('identity.jpg', identity)\n",
    "cv2.destroyAllWindows()"
   ]
  },
  {
   "cell_type": "code",
   "execution_count": 43,
   "metadata": {},
   "outputs": [],
   "source": [
    "# Apply identity kernel\n",
    "kernel1 = np.array([[0, 0, 0],\n",
    "                    [0, 1, 0],\n",
    "                    [0, 0, 0]])\n",
    "\n",
    "identity = cv2.filter2D(src=image, ddepth=-1, kernel=kernel1)"
   ]
  },
  {
   "cell_type": "code",
   "execution_count": 44,
   "metadata": {},
   "outputs": [],
   "source": [
    "kernel3 = np.array([[1, 0, 1],\n",
    "                    [0, 1, 0],\n",
    "                    [1, 0, 1]])\n",
    "\n",
    "identity_3 = cv2.filter2D(src=image, ddepth=-1, kernel=kernel3)"
   ]
  },
  {
   "cell_type": "code",
   "execution_count": 45,
   "metadata": {},
   "outputs": [],
   "source": [
    "cv2.imshow('Original', image)\n",
    "cv2.imshow('Identity', identity)\n",
    "cv2.imshow('Identity3', identity_3)\n",
    "cv2.waitKey()\n",
    "#cv2.imwrite('identity.jpg', identity)\n",
    "cv2.destroyAllWindows()"
   ]
  },
  {
   "cell_type": "code",
   "execution_count": 46,
   "metadata": {},
   "outputs": [
    {
     "name": "stdout",
     "output_type": "stream",
     "text": [
      "[[0.04 0.04 0.04 0.04 0.04]\n",
      " [0.04 0.04 0.04 0.04 0.04]\n",
      " [0.04 0.04 0.04 0.04 0.04]\n",
      " [0.04 0.04 0.04 0.04 0.04]\n",
      " [0.04 0.04 0.04 0.04 0.04]]\n"
     ]
    }
   ],
   "source": [
    "# Apply blurring kernel\n",
    "kernel2 = np.ones((5, 5), np.float32) / 25\n",
    "print(kernel2)\n",
    "img = cv2.filter2D(src=image, ddepth=-1, kernel=kernel2)"
   ]
  },
  {
   "cell_type": "code",
   "execution_count": 47,
   "metadata": {},
   "outputs": [],
   "source": [
    "cv2.imshow('Original', image)\n",
    "cv2.imshow('Kernel Blur', img)\n",
    "    \n",
    "cv2.waitKey()\n",
    "#cv2.imwrite('blur_kernel.jpg', img)\n",
    "cv2.destroyAllWindows()"
   ]
  },
  {
   "cell_type": "code",
   "execution_count": 48,
   "metadata": {},
   "outputs": [],
   "source": [
    "#using the blur function - Average Blur\n",
    "\n",
    "img_blur = cv2.blur(src=image, ksize=(3,3)) # Using the blur function to blur an image where ksize is the kernel size"
   ]
  },
  {
   "cell_type": "code",
   "execution_count": 49,
   "metadata": {},
   "outputs": [],
   "source": [
    "cv2.imshow('Original', image)\n",
    "cv2.imshow('Blur func', img_blur)\n",
    "    \n",
    "cv2.waitKey()\n",
    "cv2.imwrite('new_images/average_filter_3.jpg', img_blur)\n",
    "cv2.destroyAllWindows()"
   ]
  },
  {
   "cell_type": "code",
   "execution_count": 50,
   "metadata": {},
   "outputs": [],
   "source": [
    "# Gaussian Blur\n",
    "gaussian_blur = cv2.GaussianBlur(src=image, ksize=(3,3), sigmaX=0, sigmaY=0)"
   ]
  },
  {
   "cell_type": "code",
   "execution_count": 51,
   "metadata": {},
   "outputs": [],
   "source": [
    "cv2.imshow('Original', image)\n",
    "cv2.imshow('Gausssian Blur', gaussian_blur)\n",
    "    \n",
    "cv2.waitKey()\n",
    "cv2.imwrite('new_images/gaussian_filter_3.jpg', gaussian_blur)\n",
    "cv2.destroyAllWindows()"
   ]
  },
  {
   "cell_type": "code",
   "execution_count": 52,
   "metadata": {},
   "outputs": [],
   "source": [
    "# Median Blur\n",
    "median_blur = cv2.medianBlur(src=image, ksize=3)"
   ]
  },
  {
   "cell_type": "code",
   "execution_count": 53,
   "metadata": {},
   "outputs": [],
   "source": [
    "cv2.imshow('Original', image)\n",
    "cv2.imshow('Median Blur', median_blur)\n",
    "    \n",
    "cv2.waitKey()\n",
    "cv2.imwrite('new_images/median_filter_3.jpg', median_blur)\n",
    "cv2.destroyAllWindows()"
   ]
  },
  {
   "cell_type": "markdown",
   "metadata": {},
   "source": [
    "Changing the Values to 7X7"
   ]
  },
  {
   "cell_type": "code",
   "execution_count": 54,
   "metadata": {},
   "outputs": [],
   "source": [
    "#using the blur function - Average Blur\n",
    "\n",
    "img_blur = cv2.blur(src=image, ksize=(7,7)) # Using the blur function to blur an image where ksize is the kernel size\n",
    "\n",
    "cv2.imshow('Original', image)\n",
    "cv2.imshow('Blur func', img_blur)\n",
    "    \n",
    "cv2.waitKey()\n",
    "cv2.imwrite('new_images/average_filter_7.jpg', img_blur)\n",
    "cv2.destroyAllWindows()"
   ]
  },
  {
   "cell_type": "code",
   "execution_count": 55,
   "metadata": {},
   "outputs": [],
   "source": [
    "# Gaussian Blur\n",
    "gaussian_blur = cv2.GaussianBlur(src=image, ksize=(7,7), sigmaX=0, sigmaY=0)\n",
    "\n",
    "cv2.imshow('Original', image)\n",
    "cv2.imshow('Gausssian Blur', gaussian_blur)\n",
    "    \n",
    "cv2.waitKey()\n",
    "cv2.imwrite('new_images/gaussian_filter_7.jpg', gaussian_blur)\n",
    "cv2.destroyAllWindows()"
   ]
  },
  {
   "cell_type": "code",
   "execution_count": 56,
   "metadata": {},
   "outputs": [],
   "source": [
    "# Median Blur\n",
    "median_blur = cv2.medianBlur(src=image, ksize=7)\n",
    "\n",
    "cv2.imshow('Original', image)\n",
    "cv2.imshow('Median Blur', median_blur)\n",
    "    \n",
    "cv2.waitKey()\n",
    "cv2.imwrite('new_images/median_filter_7.jpg', median_blur)\n",
    "cv2.destroyAllWindows()"
   ]
  }
 ],
 "metadata": {
  "kernelspec": {
   "display_name": "Python 3.10.2 64-bit",
   "language": "python",
   "name": "python3"
  },
  "language_info": {
   "codemirror_mode": {
    "name": "ipython",
    "version": 3
   },
   "file_extension": ".py",
   "mimetype": "text/x-python",
   "name": "python",
   "nbconvert_exporter": "python",
   "pygments_lexer": "ipython3",
   "version": "3.10.2"
  },
  "orig_nbformat": 4,
  "vscode": {
   "interpreter": {
    "hash": "5904c03de541aee3171dc2d946da9df85831543bc9d72f4542217b15b1550de6"
   }
  }
 },
 "nbformat": 4,
 "nbformat_minor": 2
}
